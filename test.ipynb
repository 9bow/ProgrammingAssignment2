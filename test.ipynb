{
 "cells": [
  {
   "cell_type": "code",
   "execution_count": 1,
   "metadata": {
    "collapsed": false
   },
   "outputs": [],
   "source": [
    "source(\"./cachematrix.R\")"
   ]
  },
  {
   "cell_type": "code",
   "execution_count": 2,
   "metadata": {
    "collapsed": false
   },
   "outputs": [
    {
     "data": {
      "text/html": [
       "<table>\n",
       "<tbody>\n",
       "\t<tr><td>1</td><td>2</td><td>3</td></tr>\n",
       "\t<tr><td>2</td><td>5</td><td>3</td></tr>\n",
       "\t<tr><td>1</td><td>0</td><td>8</td></tr>\n",
       "</tbody>\n",
       "</table>\n"
      ],
      "text/latex": [
       "\\begin{tabular}{lll}\n",
       "\t 1 & 2 & 3\\\\\n",
       "\t 2 & 5 & 3\\\\\n",
       "\t 1 & 0 & 8\\\\\n",
       "\\end{tabular}\n"
      ],
      "text/markdown": [
       "\n",
       "| 1 | 2 | 3 | \n",
       "| 2 | 5 | 3 | \n",
       "| 1 | 0 | 8 | \n",
       "\n",
       "\n"
      ],
      "text/plain": [
       "     [,1] [,2] [,3]\n",
       "[1,] 1    2    3   \n",
       "[2,] 2    5    3   \n",
       "[3,] 1    0    8   "
      ]
     },
     "metadata": {},
     "output_type": "display_data"
    }
   ],
   "source": [
    "x = rbind(c(1, 2, 3), c(2, 5, 3), c(1, 0, 8))\n",
    "m = makeCacheMatrix(x)\n",
    "m$get()"
   ]
  },
  {
   "cell_type": "code",
   "execution_count": 3,
   "metadata": {
    "collapsed": false
   },
   "outputs": [
    {
     "data": {
      "text/html": [
       "<table>\n",
       "<tbody>\n",
       "\t<tr><td>-40</td><td>16 </td><td> 9 </td></tr>\n",
       "\t<tr><td> 13</td><td>-5 </td><td>-3 </td></tr>\n",
       "\t<tr><td>  5</td><td>-2 </td><td>-1 </td></tr>\n",
       "</tbody>\n",
       "</table>\n"
      ],
      "text/latex": [
       "\\begin{tabular}{lll}\n",
       "\t -40 & 16  &  9 \\\\\n",
       "\t  13 & -5  & -3 \\\\\n",
       "\t   5 & -2  & -1 \\\\\n",
       "\\end{tabular}\n"
      ],
      "text/markdown": [
       "\n",
       "| -40 | 16  |  9  | \n",
       "|  13 | -5  | -3  | \n",
       "|   5 | -2  | -1  | \n",
       "\n",
       "\n"
      ],
      "text/plain": [
       "     [,1] [,2] [,3]\n",
       "[1,] -40  16    9  \n",
       "[2,]  13  -5   -3  \n",
       "[3,]   5  -2   -1  "
      ]
     },
     "metadata": {},
     "output_type": "display_data"
    }
   ],
   "source": [
    "cacheSolve(m)"
   ]
  },
  {
   "cell_type": "code",
   "execution_count": 4,
   "metadata": {
    "collapsed": false
   },
   "outputs": [
    {
     "name": "stderr",
     "output_type": "stream",
     "text": [
      "getting cached data\n"
     ]
    },
    {
     "data": {
      "text/html": [
       "<table>\n",
       "<tbody>\n",
       "\t<tr><td>-40</td><td>16 </td><td> 9 </td></tr>\n",
       "\t<tr><td> 13</td><td>-5 </td><td>-3 </td></tr>\n",
       "\t<tr><td>  5</td><td>-2 </td><td>-1 </td></tr>\n",
       "</tbody>\n",
       "</table>\n"
      ],
      "text/latex": [
       "\\begin{tabular}{lll}\n",
       "\t -40 & 16  &  9 \\\\\n",
       "\t  13 & -5  & -3 \\\\\n",
       "\t   5 & -2  & -1 \\\\\n",
       "\\end{tabular}\n"
      ],
      "text/markdown": [
       "\n",
       "| -40 | 16  |  9  | \n",
       "|  13 | -5  | -3  | \n",
       "|   5 | -2  | -1  | \n",
       "\n",
       "\n"
      ],
      "text/plain": [
       "     [,1] [,2] [,3]\n",
       "[1,] -40  16    9  \n",
       "[2,]  13  -5   -3  \n",
       "[3,]   5  -2   -1  "
      ]
     },
     "metadata": {},
     "output_type": "display_data"
    }
   ],
   "source": [
    "cacheSolve(m)"
   ]
  }
 ],
 "metadata": {
  "kernelspec": {
   "display_name": "R",
   "language": "R",
   "name": "ir"
  },
  "language_info": {
   "codemirror_mode": "r",
   "file_extension": ".r",
   "mimetype": "text/x-r-source",
   "name": "R",
   "pygments_lexer": "r",
   "version": "3.4.0"
  }
 },
 "nbformat": 4,
 "nbformat_minor": 2
}
